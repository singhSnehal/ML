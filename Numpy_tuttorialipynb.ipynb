{
  "nbformat": 4,
  "nbformat_minor": 0,
  "metadata": {
    "colab": {
      "name": "Numpy_tuttorialipynb",
      "provenance": [],
      "authorship_tag": "ABX9TyOBkBYguZShBhDNTasxyfq3",
      "include_colab_link": true
    },
    "kernelspec": {
      "name": "python3",
      "display_name": "Python 3"
    },
    "language_info": {
      "name": "python"
    }
  },
  "cells": [
    {
      "cell_type": "markdown",
      "metadata": {
        "id": "view-in-github",
        "colab_type": "text"
      },
      "source": [
        "<a href=\"https://colab.research.google.com/github/singhSnehal/ML/blob/main/Numpy_tuttorialipynb.ipynb\" target=\"_parent\"><img src=\"https://colab.research.google.com/assets/colab-badge.svg\" alt=\"Open In Colab\"/></a>"
      ]
    },
    {
      "cell_type": "code",
      "execution_count": 1,
      "metadata": {
        "colab": {
          "base_uri": "https://localhost:8080/"
        },
        "id": "tLmkAXQphKoV",
        "outputId": "ba0a691f-6f12-4beb-d56a-da1d1f624a73"
      },
      "outputs": [
        {
          "output_type": "stream",
          "name": "stdout",
          "text": [
            "3\n",
            "(3, 3, 4)\n",
            "36\n",
            "[[ 0  1  2  3  4  5  6  7]\n",
            " [ 8  9 10 11 12 13 14 15]\n",
            " [16 17 18 19 20 21 22 23]]\n"
          ]
        }
      ],
      "source": [
        "import numpy as np\n",
        "\n",
        "a=np.array([[[1,2,3,9],[3,4,5,10],[6,7,8,10]],[[1,2,3,10],[3,4,5,10],\n",
        "[6,7,8,10]],[[1,2,3,10],[3,4,5,10],[6,7,8,10]]])\n",
        "\n",
        "print(a.ndim)\n",
        "\n",
        "print(a.shape)\n",
        "\n",
        "print(a.size)\n",
        "\n",
        "a=np.arange(24).reshape(2,3,4)\n",
        "\n",
        "a.resize(3,8)\n",
        "\n",
        "print(a)"
      ]
    },
    {
      "cell_type": "code",
      "source": [
        "b = np.array([[1.5,2,3], [4,5,6]])\n",
        "c = np.array( [ [1,2], [3,4] ], dtype=complex )\n",
        "\n",
        "print(b)\n",
        "print(b.dtype)\n",
        "\n",
        "print(c)"
      ],
      "metadata": {
        "colab": {
          "base_uri": "https://localhost:8080/"
        },
        "id": "hnwYOOsSSorH",
        "outputId": "92e6a124-93bc-45b4-9ebe-f71b4319fc17"
      },
      "execution_count": 2,
      "outputs": [
        {
          "output_type": "stream",
          "name": "stdout",
          "text": [
            "[[1.5 2.  3. ]\n",
            " [4.  5.  6. ]]\n",
            "float64\n",
            "[[1.+0.j 2.+0.j]\n",
            " [3.+0.j 4.+0.j]]\n"
          ]
        }
      ]
    },
    {
      "cell_type": "code",
      "source": [
        "c = np.array( [ [1,2], [3,4] ], dtype=complex )    # type of array explicitly defined\n",
        "c\n"
      ],
      "metadata": {
        "colab": {
          "base_uri": "https://localhost:8080/"
        },
        "id": "itpV43c2Su5t",
        "outputId": "20512138-7834-482f-b428-6d8d680ea4ce"
      },
      "execution_count": 3,
      "outputs": [
        {
          "output_type": "execute_result",
          "data": {
            "text/plain": [
              "array([[1.+0.j, 2.+0.j],\n",
              "       [3.+0.j, 4.+0.j]])"
            ]
          },
          "metadata": {},
          "execution_count": 3
        }
      ]
    },
    {
      "cell_type": "code",
      "source": [
        "c=np.empty( (2,3) )\n",
        "print(c)\n",
        "b=np.ones( (2,3,4), dtype=np.int16 ) \n",
        "b"
      ],
      "metadata": {
        "colab": {
          "base_uri": "https://localhost:8080/"
        },
        "id": "DT824CJ5SzJR",
        "outputId": "2fa98503-c1e8-42a1-ed3d-8218527e4cfe"
      },
      "execution_count": 4,
      "outputs": [
        {
          "output_type": "stream",
          "name": "stdout",
          "text": [
            "[[1.5 2.  3. ]\n",
            " [4.  5.  6. ]]\n"
          ]
        },
        {
          "output_type": "execute_result",
          "data": {
            "text/plain": [
              "array([[[1, 1, 1, 1],\n",
              "        [1, 1, 1, 1],\n",
              "        [1, 1, 1, 1]],\n",
              "\n",
              "       [[1, 1, 1, 1],\n",
              "        [1, 1, 1, 1],\n",
              "        [1, 1, 1, 1]]], dtype=int16)"
            ]
          },
          "metadata": {},
          "execution_count": 4
        }
      ]
    },
    {
      "cell_type": "code",
      "source": [
        "b=np.ones( (2,3,4), dtype=np.int16 )\n",
        "n=np.empty((2,5))\n",
        "print(n)"
      ],
      "metadata": {
        "colab": {
          "base_uri": "https://localhost:8080/"
        },
        "id": "wgs8zVd-S27s",
        "outputId": "9801c69d-d265-4461-d9ba-780fbe978c77"
      },
      "execution_count": 5,
      "outputs": [
        {
          "output_type": "stream",
          "name": "stdout",
          "text": [
            "[[4.65211545e-310 3.60739284e-313 1.38338381e-322 4.65211545e-310\n",
            "  0.00000000e+000]\n",
            " [0.00000000e+000 4.94065646e-323 0.00000000e+000 0.00000000e+000\n",
            "  0.00000000e+000]]\n"
          ]
        }
      ]
    },
    {
      "cell_type": "code",
      "source": [
        "c=np.linspace( 0, 2, 9 )\n",
        "ca=np.arange( 0, 2, 9 )\n",
        "b=np.linspace( 0, 2, 5 )\n",
        "ba=np.arange( 0, 2, 5 )\n",
        "a=np.linspace( 0, 2, 20 )\n",
        "\n",
        "\n",
        "aa=np.arange( 0, 2, 20 )\n",
        "\n",
        "\n",
        "\n",
        "print(a ,aa ,b,ba,c,ca, sep='\\n') "
      ],
      "metadata": {
        "colab": {
          "base_uri": "https://localhost:8080/"
        },
        "id": "iiMB8lQpS8TM",
        "outputId": "5a727c10-9ade-4f7c-8491-f8df9fb5e4c1"
      },
      "execution_count": 6,
      "outputs": [
        {
          "output_type": "stream",
          "name": "stdout",
          "text": [
            "[0.         0.10526316 0.21052632 0.31578947 0.42105263 0.52631579\n",
            " 0.63157895 0.73684211 0.84210526 0.94736842 1.05263158 1.15789474\n",
            " 1.26315789 1.36842105 1.47368421 1.57894737 1.68421053 1.78947368\n",
            " 1.89473684 2.        ]\n",
            "[0]\n",
            "[0.  0.5 1.  1.5 2. ]\n",
            "[0]\n",
            "[0.   0.25 0.5  0.75 1.   1.25 1.5  1.75 2.  ]\n",
            "[0]\n"
          ]
        }
      ]
    },
    {
      "cell_type": "code",
      "source": [
        "import numpy as np \n",
        "a = np.array([0,30,45,60,90]) \n",
        "\n",
        "print('Sine of different angles:' )\n",
        "# Convert to radians by multiplying with pi/180 \n",
        "print(np.sin(a*np.pi/180) )\n",
        "print('\\n' ) \n",
        "\n",
        "print( 'Cosine values for angles in array:' )\n",
        "print(np.cos(a*np.pi/180))\n",
        "print ('\\n' ) \n",
        "\n",
        "print('Tangent values for given angles:' )\n",
        "print(np.tan(a*np.pi/180))"
      ],
      "metadata": {
        "colab": {
          "base_uri": "https://localhost:8080/"
        },
        "id": "rLAYp4FyTEpn",
        "outputId": "72f936ef-615f-40e3-a5b7-b52d7d9516fc"
      },
      "execution_count": 7,
      "outputs": [
        {
          "output_type": "stream",
          "name": "stdout",
          "text": [
            "Sine of different angles:\n",
            "[0.         0.5        0.70710678 0.8660254  1.        ]\n",
            "\n",
            "\n",
            "Cosine values for angles in array:\n",
            "[1.00000000e+00 8.66025404e-01 7.07106781e-01 5.00000000e-01\n",
            " 6.12323400e-17]\n",
            "\n",
            "\n",
            "Tangent values for given angles:\n",
            "[0.00000000e+00 5.77350269e-01 1.00000000e+00 1.73205081e+00\n",
            " 1.63312394e+16]\n"
          ]
        }
      ]
    },
    {
      "cell_type": "code",
      "source": [
        "# Create an array with random values \n",
        "e = np.random.random((2, 2)) \n",
        "print (\"\\nA random array:\\n\", e) \n",
        "  \n",
        "# Create a sequence of integers  \n",
        "# from 0 to 30 with steps of 5 \n",
        "f = np.arange(0, 30, 5) \n",
        "print (\"\\nA sequential array with steps of 5:\\n\", f) \n",
        "  \n",
        "# Create a sequence of 10 values in range 0 to 5 \n",
        "g = np.linspace(0, 5, 10) \n",
        "print (\"\\nA sequential array with 10 values between\"\n",
        "                                        \"0 and 5:\\n\", g) \n",
        "  \n",
        "# Reshaping 3X4 array to 2X2X3 array \n",
        "arr = np.array([[1, 2, 3, 4], \n",
        "                [5, 2, 4, 2], \n",
        "                [1, 2, 0, 1]]) \n",
        "  \n",
        "newarr = arr.reshape(2, 2, 3) \n",
        "  \n",
        "print (\"\\nOriginal array:\\n\", arr) \n",
        "print (\"Reshaped array:\\n\", newarr) \n",
        "  \n",
        "# Flatten array \n",
        "arr = np.array([[1, 2, 3], [4, 5, 6]]) \n",
        "flarr = arr.flatten() \n",
        "  \n",
        "print (\"\\nOriginal array:\\n\", arr) \n",
        "print (\"Fattened array:\\n\", flarr) "
      ],
      "metadata": {
        "id": "6ctR3JCFTMkE"
      },
      "execution_count": null,
      "outputs": []
    },
    {
      "cell_type": "markdown",
      "source": [
        "Flatten array: We can use flatten method to get a copy of array collapsed into one dimension. It accepts order argument. Default value is ‘C’ (for row-major order). \n",
        "Use ‘F’ for column major order.\n",
        "\n",
        "Stacking: Several arrays can be stacked together along different axes.\n",
        "\n",
        "np.vstack: To stack arrays along vertical axis.\n",
        "\n",
        "np.hstack: To stack arrays along horizontal axis.\n",
        "\n",
        "np.column_stack: To stack 1-D arrays as columns into 2-D arrays.\n",
        "np.concatenate: To stack arrays along specified axis (axis is passed as argument)."
      ],
      "metadata": {
        "id": "_FgAdKOmTVJd"
      }
    },
    {
      "cell_type": "code",
      "source": [
        "import numpy as np\n",
        "  \n",
        "a = np.array([[1, 2], \n",
        "              [3, 4]]) \n",
        "  \n",
        "b = np.array([[5, 6], \n",
        "       \n",
        "       [7, 8]]) \n",
        "  \n",
        "# vertical stacking \n",
        "print(\"Vertical stacking:\\n\", np.vstack((a, b))) \n",
        "  \n",
        "# horizontal stacking \n",
        "print(\"\\nHorizontal stacking:\\n\", np.hstack((a, b))) \n",
        "  \n",
        "c = [5, 6] \n",
        "  \n",
        "# stacking columns \n",
        "print(\"\\nColumn stacking:\\n\", np.column_stack((a, c))) \n",
        "  \n",
        "# concatenation method  \n",
        "print(\"\\nConcatenating to 2nd axis:\\n\", np.concatenate((a, b), 1)) "
      ],
      "metadata": {
        "colab": {
          "base_uri": "https://localhost:8080/"
        },
        "id": "inX1R-UJTOks",
        "outputId": "6d9d8c74-7d47-4d92-80c7-cb72cfc7becb"
      },
      "execution_count": 8,
      "outputs": [
        {
          "output_type": "stream",
          "name": "stdout",
          "text": [
            "Vertical stacking:\n",
            " [[1 2]\n",
            " [3 4]\n",
            " [5 6]\n",
            " [7 8]]\n",
            "\n",
            "Horizontal stacking:\n",
            " [[1 2 5 6]\n",
            " [3 4 7 8]]\n",
            "\n",
            "Column stacking:\n",
            " [[1 2 5]\n",
            " [3 4 6]]\n",
            "\n",
            "Concatenating to 2nd axis:\n",
            " [[1 2 5 6]\n",
            " [3 4 7 8]]\n"
          ]
        }
      ]
    },
    {
      "cell_type": "code",
      "source": [
        "from google.colab import drive\n",
        "drive.mount('/content/drive')"
      ],
      "metadata": {
        "colab": {
          "base_uri": "https://localhost:8080/"
        },
        "id": "w-A2NO4ZTgyc",
        "outputId": "a5e4356a-47e5-45c0-c197-0f2f48ea70a8"
      },
      "execution_count": 9,
      "outputs": [
        {
          "output_type": "stream",
          "name": "stdout",
          "text": [
            "Mounted at /content/drive\n"
          ]
        }
      ]
    },
    {
      "cell_type": "markdown",
      "source": [
        "Splitting:For splitting, we have these functions: np.hsplit: Split array along horizontal axis. np.vsplit: Split array along vertical axis. np.array_split: Split array along specified axis."
      ],
      "metadata": {
        "id": "ZG5DUeaKTr-n"
      }
    },
    {
      "cell_type": "code",
      "source": [
        "import numpy as np \n",
        "  \n",
        "a = np.array([[1, 3, 5, 7, 9, 11], \n",
        "              [2, 4, 6, 8, 10, 12]]) \n",
        "  \n",
        "# horizontal splitting \n",
        "print(\"Splitting along horizontal axis into 2 parts:\\n\", np.hsplit(a, 2)) \n",
        "  \n",
        "# vertical splitting \n",
        "print(\"\\nSplitting along vertical axis into 2 parts:\\n\", np.vsplit(a, 2))"
      ],
      "metadata": {
        "colab": {
          "base_uri": "https://localhost:8080/"
        },
        "id": "fCb8tq7mTtCz",
        "outputId": "d8881285-27cd-4332-d024-be7091054497"
      },
      "execution_count": 10,
      "outputs": [
        {
          "output_type": "stream",
          "name": "stdout",
          "text": [
            "Splitting along horizontal axis into 2 parts:\n",
            " [array([[1, 3, 5],\n",
            "       [2, 4, 6]]), array([[ 7,  9, 11],\n",
            "       [ 8, 10, 12]])]\n",
            "\n",
            "Splitting along vertical axis into 2 parts:\n",
            " [array([[ 1,  3,  5,  7,  9, 11]]), array([[ 2,  4,  6,  8, 10, 12]])]\n"
          ]
        }
      ]
    },
    {
      "cell_type": "code",
      "source": [
        "# broadcasting Strenching array\n",
        "import numpy as np \n",
        "  \n",
        "a = np.array([0.0, 10.0, 20.0, 30.0])\n",
        "\n",
        "b = np.array([0.0, 1.0, 2.0,5.0]) \n",
        "\n",
        "  \n",
        "print(a + b)"
      ],
      "metadata": {
        "colab": {
          "base_uri": "https://localhost:8080/"
        },
        "id": "YitK5SC-Tw3J",
        "outputId": "76329238-b4d2-42c2-f09f-3af2f879cf15"
      },
      "execution_count": 11,
      "outputs": [
        {
          "output_type": "stream",
          "name": "stdout",
          "text": [
            "[ 0. 11. 22. 35.]\n"
          ]
        }
      ]
    },
    {
      "cell_type": "code",
      "source": [
        "a = np.ones(3, dtype=np.int32)\n",
        "b = np.linspace(0, 3, 4)\n",
        "print(a)\n",
        "print(b)\n",
        "print(a.sum(), b.min(), b.max())"
      ],
      "metadata": {
        "colab": {
          "base_uri": "https://localhost:8080/"
        },
        "id": "TJCVspJYT4vu",
        "outputId": "6098768e-cadb-4a59-a1f7-00b81e055ed5"
      },
      "execution_count": 12,
      "outputs": [
        {
          "output_type": "stream",
          "name": "stdout",
          "text": [
            "[1 1 1]\n",
            "[0. 1. 2. 3.]\n",
            "3 0.0 3.0\n"
          ]
        }
      ]
    }
  ]
}