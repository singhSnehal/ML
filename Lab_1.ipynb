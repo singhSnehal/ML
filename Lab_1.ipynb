{
  "nbformat": 4,
  "nbformat_minor": 0,
  "metadata": {
    "colab": {
      "name": "CI56.ipynb",
      "provenance": [],
      "authorship_tag": "ABX9TyNQlxODYhR2ue6ZkNWZKvYK",
      "include_colab_link": true
    },
    "kernelspec": {
      "name": "python3",
      "display_name": "Python 3"
    },
    "language_info": {
      "name": "python"
    }
  },
  "cells": [
    {
      "cell_type": "markdown",
      "metadata": {
        "id": "view-in-github",
        "colab_type": "text"
      },
      "source": [
        "<a href=\"https://colab.research.google.com/github/singhSnehal/ML/blob/main/CI56.ipynb\" target=\"_parent\"><img src=\"https://colab.research.google.com/assets/colab-badge.svg\" alt=\"Open In Colab\"/></a>"
      ]
    },
    {
      "cell_type": "code",
      "execution_count": null,
      "metadata": {
        "colab": {
          "base_uri": "https://localhost:8080/"
        },
        "id": "ijZtjE2-V22x",
        "outputId": "6af4ac53-f217-4d7b-bbc0-d5ec8e19b227"
      },
      "outputs": [
        {
          "output_type": "stream",
          "name": "stdout",
          "text": [
            "['a', 'b', 'c', 'a', 'd']\n"
          ]
        }
      ],
      "source": [
        "li=[\"a\",\"b\",\"c\",\"a\",\"d\"]\n",
        "print(li)\n"
      ]
    },
    {
      "cell_type": "code",
      "source": [
        "li= [\"Snehal\",20,True,\"SSS\",2,3,4,5,6,78,67,67,77,84,84,8,64]\n",
        "print(li)\n",
        "print(li[1])\n",
        "print(li[:1])\n",
        "print(li[1:2])\n",
        "print(li[-1])\n",
        "print(li[::2])\n",
        "print(li[::-2])"
      ],
      "metadata": {
        "colab": {
          "base_uri": "https://localhost:8080/"
        },
        "id": "O51RuSWtXmKu",
        "outputId": "ec879288-85f0-4bec-c8dd-2cf420983177"
      },
      "execution_count": null,
      "outputs": [
        {
          "output_type": "stream",
          "name": "stdout",
          "text": [
            "['Snehal', 20, True, 'SSS', 2, 3, 4, 5, 6, 78, 67, 67, 77, 84, 84, 8, 64]\n",
            "20\n",
            "['Snehal']\n",
            "[20]\n",
            "64\n",
            "['Snehal', True, 2, 4, 6, 67, 77, 84, 64]\n",
            "[64, 84, 77, 67, 6, 4, 2, True, 'Snehal']\n"
          ]
        }
      ]
    },
    {
      "cell_type": "code",
      "source": [
        "l=[\"Snehal Singh\",\"0827CI191056\",\"Sem 6\",9.46]\n",
        "print(l)\n",
        "l.pop()\n",
        "print(l)"
      ],
      "metadata": {
        "colab": {
          "base_uri": "https://localhost:8080/"
        },
        "id": "xs6nc9LmXolp",
        "outputId": "df3747fc-63bf-421e-ef51-cfe8d5d0b619"
      },
      "execution_count": null,
      "outputs": [
        {
          "output_type": "stream",
          "name": "stdout",
          "text": [
            "['Snehal Singh', '0827CI191056', 'Sem 6', 9.46]\n",
            "['Snehal Singh', '0827CI191056', 'Sem 6']\n"
          ]
        }
      ]
    },
    {
      "cell_type": "code",
      "source": [
        "l=[\"Snehal Singh\",\"0827CI191056\",\"Sem 6\",9.46]\n",
        "l.append(\"Ding-Ding\")\n",
        "print(l)\n",
        "print(len(l))"
      ],
      "metadata": {
        "colab": {
          "base_uri": "https://localhost:8080/"
        },
        "id": "EuKw-epxcc3B",
        "outputId": "4a083071-6487-490b-c1f2-f059073334b0"
      },
      "execution_count": null,
      "outputs": [
        {
          "output_type": "stream",
          "name": "stdout",
          "text": [
            "['Snehal Singh', '0827CI191056', 'Sem 6', 9.46, 'Ding-Ding']\n",
            "5\n"
          ]
        }
      ]
    },
    {
      "cell_type": "code",
      "source": [
        "l1=[2,3,5,7,1,4]\n",
        "l1.sort()\n",
        "print(l1)\n",
        "print(max(l1))\n",
        "print(min(l1))\n",
        "l1.reverse()\n",
        "print(l1)\n",
        "l1.insert(1 ,8)\n",
        "print(l1)\n",
        "l2=[9,10]\n",
        "l1.extend(l2)\n",
        "print(l1)\n",
        "l1.count(7)\n",
        "l1.remove(2)\n",
        "print(l1)"
      ],
      "metadata": {
        "colab": {
          "base_uri": "https://localhost:8080/"
        },
        "id": "aEIzeRYSeLjx",
        "outputId": "b7eee4e8-6e7a-4a52-8a2d-0e70482f8dab"
      },
      "execution_count": null,
      "outputs": [
        {
          "output_type": "stream",
          "name": "stdout",
          "text": [
            "[1, 2, 3, 4, 5, 7]\n",
            "7\n",
            "1\n",
            "[7, 5, 4, 3, 2, 1]\n",
            "[7, 8, 5, 4, 3, 2, 1]\n",
            "[7, 8, 5, 4, 3, 2, 1, 9, 10]\n",
            "[7, 8, 5, 4, 3, 1, 9, 10]\n"
          ]
        }
      ]
    },
    {
      "cell_type": "code",
      "source": [
        "for i in range(1,5):\n",
        "    print(\" \"*(5-i),\"*\"*i)"
      ],
      "metadata": {
        "colab": {
          "base_uri": "https://localhost:8080/"
        },
        "id": "YS9iAAhVeZJu",
        "outputId": "b7db8a40-0dd3-40ba-d36d-b7005072ae58"
      },
      "execution_count": null,
      "outputs": [
        {
          "output_type": "stream",
          "name": "stdout",
          "text": [
            "     *\n",
            "    **\n",
            "   ***\n",
            "  ****\n"
          ]
        }
      ]
    }
  ]
}
