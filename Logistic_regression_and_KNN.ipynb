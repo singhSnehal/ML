{
  "nbformat": 4,
  "nbformat_minor": 0,
  "metadata": {
    "colab": {
      "name": "Logistic_regression_and_KNN.ipynb",
      "provenance": [],
      "include_colab_link": true
    },
    "kernelspec": {
      "name": "python3",
      "display_name": "Python 3"
    }
  },
  "cells": [
    {
      "cell_type": "markdown",
      "metadata": {
        "id": "view-in-github",
        "colab_type": "text"
      },
      "source": [
        "<a href=\"https://colab.research.google.com/github/singhSnehal/ML/blob/main/Logistic_regression_and_KNN.ipynb\" target=\"_parent\"><img src=\"https://colab.research.google.com/assets/colab-badge.svg\" alt=\"Open In Colab\"/></a>"
      ]
    },
    {
      "cell_type": "code",
      "metadata": {
        "id": "VT1pqQZOEz5O"
      },
      "source": [
        "import pandas as pd\n",
        "import numpy as np\n",
        "import seaborn as sns\n",
        "from sklearn.model_selection  import train_test_split\n",
        "from sklearn.linear_model import LogisticRegression\n",
        "from sklearn.metrics import accuracy_score,confusion_matrix\n"
      ],
      "execution_count": null,
      "outputs": []
    },
    {
      "cell_type": "markdown",
      "metadata": {
        "id": "u2DgnSS-f8uH"
      },
      "source": [
        "Dataset servce requirements for  a car. THe objective is to predict service required for car or not. CLearly "
      ]
    },
    {
      "cell_type": "markdown",
      "metadata": {
        "id": "FSjozFOQF4hn"
      },
      "source": [
        "Using data set"
      ]
    },
    {
      "cell_type": "code",
      "metadata": {
        "id": "_gtBwz-rF7-8",
        "colab": {
          "base_uri": "https://localhost:8080/"
        },
        "outputId": "51c61f3f-9b2e-4f88-9c9b-c7b85644e5ed"
      },
      "source": [
        "DF1=pd.read_csv(\"/content/drive/My Drive/TrainData.csv\")\n",
        "Data=DF1.copy()\n",
        "Data.isnull().sum()  #idebtify the null values in data set\n"
      ],
      "execution_count": null,
      "outputs": [
        {
          "output_type": "execute_result",
          "data": {
            "text/plain": [
              "OilQual        0\n",
              "EnginePerf     0\n",
              "NormMileage    0\n",
              "TyreWear       0\n",
              "HVACwear       0\n",
              "Service        0\n",
              "dtype: int64"
            ]
          },
          "metadata": {
            "tags": []
          },
          "execution_count": 25
        }
      ]
    },
    {
      "cell_type": "code",
      "metadata": {
        "id": "g-0hyKNLHHYi",
        "colab": {
          "base_uri": "https://localhost:8080/"
        },
        "outputId": "d4bdadd6-f8cb-48ae-9878-072ed2d56372"
      },
      "source": [
        "Summary=Data.describe()\n",
        "print(Summary)\n",
        "Summaryc=Data.describe(include=\"O\")\n",
        "print(Summaryc)\n"
      ],
      "execution_count": null,
      "outputs": [
        {
          "output_type": "stream",
          "text": [
            "          OilQual  EnginePerf  NormMileage    TyreWear    HVACwear\n",
            "count  315.000000  315.000000   315.000000  315.000000  315.000000\n",
            "mean    59.649297   60.305574    60.297214   61.758983   60.394734\n",
            "std     37.702113   37.143496    35.980773   37.063963   38.571413\n",
            "min      0.987185    1.891003     3.358986    6.213161   -1.719738\n",
            "25%     26.765516   27.418265    31.259536   29.036162   31.336275\n",
            "50%     59.663282   59.741061    57.220883   60.304031   60.620518\n",
            "75%    104.388821  103.744032   103.051485  106.172658  105.536843\n",
            "max    106.428821  105.744032   105.051485  108.172658  107.536843\n",
            "       Service\n",
            "count      315\n",
            "unique       2\n",
            "top         No\n",
            "freq       232\n"
          ],
          "name": "stdout"
        }
      ]
    },
    {
      "cell_type": "code",
      "metadata": {
        "id": "6a9OxX57JEpJ",
        "colab": {
          "base_uri": "https://localhost:8080/"
        },
        "outputId": "f9acab83-2237-4b93-cfbf-cd96832737cb"
      },
      "source": [
        "freqkm=Data['Service'].value_counts()\n",
        "print(freqkm)"
      ],
      "execution_count": null,
      "outputs": [
        {
          "output_type": "stream",
          "text": [
            "No     232\n",
            "Yes     83\n",
            "Name: Service, dtype: int64\n"
          ],
          "name": "stdout"
        }
      ]
    },
    {
      "cell_type": "code",
      "metadata": {
        "id": "0bxKjL90KT-3",
        "colab": {
          "base_uri": "https://localhost:8080/",
          "height": 391
        },
        "outputId": "5a2d9cae-246c-416b-eee4-5dac9ba57241"
      },
      "source": [
        "\n",
        "Data=pd.read_csv(\"/content/drive/My Drive/serviceTrainData.csv\", na_values=[\"??\"])"
      ],
      "execution_count": null,
      "outputs": [
        {
          "output_type": "error",
          "ename": "FileNotFoundError",
          "evalue": "ignored",
          "traceback": [
            "\u001b[0;31m---------------------------------------------------------------------------\u001b[0m",
            "\u001b[0;31mFileNotFoundError\u001b[0m                         Traceback (most recent call last)",
            "\u001b[0;32m<ipython-input-5-ad8ca50258c4>\u001b[0m in \u001b[0;36m<module>\u001b[0;34m()\u001b[0m\n\u001b[1;32m      1\u001b[0m \u001b[0;34m\u001b[0m\u001b[0m\n\u001b[0;32m----> 2\u001b[0;31m \u001b[0mData\u001b[0m\u001b[0;34m=\u001b[0m\u001b[0mpd\u001b[0m\u001b[0;34m.\u001b[0m\u001b[0mread_csv\u001b[0m\u001b[0;34m(\u001b[0m\u001b[0;34m\"/content/drive/My Drive/serviceTrainData.csv\"\u001b[0m\u001b[0;34m,\u001b[0m \u001b[0mna_values\u001b[0m\u001b[0;34m=\u001b[0m\u001b[0;34m[\u001b[0m\u001b[0;34m\"??\"\u001b[0m\u001b[0;34m]\u001b[0m\u001b[0;34m)\u001b[0m\u001b[0;34m\u001b[0m\u001b[0;34m\u001b[0m\u001b[0m\n\u001b[0m",
            "\u001b[0;32m/usr/local/lib/python3.7/dist-packages/pandas/io/parsers.py\u001b[0m in \u001b[0;36mread_csv\u001b[0;34m(filepath_or_buffer, sep, delimiter, header, names, index_col, usecols, squeeze, prefix, mangle_dupe_cols, dtype, engine, converters, true_values, false_values, skipinitialspace, skiprows, skipfooter, nrows, na_values, keep_default_na, na_filter, verbose, skip_blank_lines, parse_dates, infer_datetime_format, keep_date_col, date_parser, dayfirst, cache_dates, iterator, chunksize, compression, thousands, decimal, lineterminator, quotechar, quoting, doublequote, escapechar, comment, encoding, dialect, error_bad_lines, warn_bad_lines, delim_whitespace, low_memory, memory_map, float_precision)\u001b[0m\n\u001b[1;32m    686\u001b[0m     )\n\u001b[1;32m    687\u001b[0m \u001b[0;34m\u001b[0m\u001b[0m\n\u001b[0;32m--> 688\u001b[0;31m     \u001b[0;32mreturn\u001b[0m \u001b[0m_read\u001b[0m\u001b[0;34m(\u001b[0m\u001b[0mfilepath_or_buffer\u001b[0m\u001b[0;34m,\u001b[0m \u001b[0mkwds\u001b[0m\u001b[0;34m)\u001b[0m\u001b[0;34m\u001b[0m\u001b[0;34m\u001b[0m\u001b[0m\n\u001b[0m\u001b[1;32m    689\u001b[0m \u001b[0;34m\u001b[0m\u001b[0m\n\u001b[1;32m    690\u001b[0m \u001b[0;34m\u001b[0m\u001b[0m\n",
            "\u001b[0;32m/usr/local/lib/python3.7/dist-packages/pandas/io/parsers.py\u001b[0m in \u001b[0;36m_read\u001b[0;34m(filepath_or_buffer, kwds)\u001b[0m\n\u001b[1;32m    452\u001b[0m \u001b[0;34m\u001b[0m\u001b[0m\n\u001b[1;32m    453\u001b[0m     \u001b[0;31m# Create the parser.\u001b[0m\u001b[0;34m\u001b[0m\u001b[0;34m\u001b[0m\u001b[0;34m\u001b[0m\u001b[0m\n\u001b[0;32m--> 454\u001b[0;31m     \u001b[0mparser\u001b[0m \u001b[0;34m=\u001b[0m \u001b[0mTextFileReader\u001b[0m\u001b[0;34m(\u001b[0m\u001b[0mfp_or_buf\u001b[0m\u001b[0;34m,\u001b[0m \u001b[0;34m**\u001b[0m\u001b[0mkwds\u001b[0m\u001b[0;34m)\u001b[0m\u001b[0;34m\u001b[0m\u001b[0;34m\u001b[0m\u001b[0m\n\u001b[0m\u001b[1;32m    455\u001b[0m \u001b[0;34m\u001b[0m\u001b[0m\n\u001b[1;32m    456\u001b[0m     \u001b[0;32mif\u001b[0m \u001b[0mchunksize\u001b[0m \u001b[0;32mor\u001b[0m \u001b[0miterator\u001b[0m\u001b[0;34m:\u001b[0m\u001b[0;34m\u001b[0m\u001b[0;34m\u001b[0m\u001b[0m\n",
            "\u001b[0;32m/usr/local/lib/python3.7/dist-packages/pandas/io/parsers.py\u001b[0m in \u001b[0;36m__init__\u001b[0;34m(self, f, engine, **kwds)\u001b[0m\n\u001b[1;32m    946\u001b[0m             \u001b[0mself\u001b[0m\u001b[0;34m.\u001b[0m\u001b[0moptions\u001b[0m\u001b[0;34m[\u001b[0m\u001b[0;34m\"has_index_names\"\u001b[0m\u001b[0;34m]\u001b[0m \u001b[0;34m=\u001b[0m \u001b[0mkwds\u001b[0m\u001b[0;34m[\u001b[0m\u001b[0;34m\"has_index_names\"\u001b[0m\u001b[0;34m]\u001b[0m\u001b[0;34m\u001b[0m\u001b[0;34m\u001b[0m\u001b[0m\n\u001b[1;32m    947\u001b[0m \u001b[0;34m\u001b[0m\u001b[0m\n\u001b[0;32m--> 948\u001b[0;31m         \u001b[0mself\u001b[0m\u001b[0;34m.\u001b[0m\u001b[0m_make_engine\u001b[0m\u001b[0;34m(\u001b[0m\u001b[0mself\u001b[0m\u001b[0;34m.\u001b[0m\u001b[0mengine\u001b[0m\u001b[0;34m)\u001b[0m\u001b[0;34m\u001b[0m\u001b[0;34m\u001b[0m\u001b[0m\n\u001b[0m\u001b[1;32m    949\u001b[0m \u001b[0;34m\u001b[0m\u001b[0m\n\u001b[1;32m    950\u001b[0m     \u001b[0;32mdef\u001b[0m \u001b[0mclose\u001b[0m\u001b[0;34m(\u001b[0m\u001b[0mself\u001b[0m\u001b[0;34m)\u001b[0m\u001b[0;34m:\u001b[0m\u001b[0;34m\u001b[0m\u001b[0;34m\u001b[0m\u001b[0m\n",
            "\u001b[0;32m/usr/local/lib/python3.7/dist-packages/pandas/io/parsers.py\u001b[0m in \u001b[0;36m_make_engine\u001b[0;34m(self, engine)\u001b[0m\n\u001b[1;32m   1178\u001b[0m     \u001b[0;32mdef\u001b[0m \u001b[0m_make_engine\u001b[0m\u001b[0;34m(\u001b[0m\u001b[0mself\u001b[0m\u001b[0;34m,\u001b[0m \u001b[0mengine\u001b[0m\u001b[0;34m=\u001b[0m\u001b[0;34m\"c\"\u001b[0m\u001b[0;34m)\u001b[0m\u001b[0;34m:\u001b[0m\u001b[0;34m\u001b[0m\u001b[0;34m\u001b[0m\u001b[0m\n\u001b[1;32m   1179\u001b[0m         \u001b[0;32mif\u001b[0m \u001b[0mengine\u001b[0m \u001b[0;34m==\u001b[0m \u001b[0;34m\"c\"\u001b[0m\u001b[0;34m:\u001b[0m\u001b[0;34m\u001b[0m\u001b[0;34m\u001b[0m\u001b[0m\n\u001b[0;32m-> 1180\u001b[0;31m             \u001b[0mself\u001b[0m\u001b[0;34m.\u001b[0m\u001b[0m_engine\u001b[0m \u001b[0;34m=\u001b[0m \u001b[0mCParserWrapper\u001b[0m\u001b[0;34m(\u001b[0m\u001b[0mself\u001b[0m\u001b[0;34m.\u001b[0m\u001b[0mf\u001b[0m\u001b[0;34m,\u001b[0m \u001b[0;34m**\u001b[0m\u001b[0mself\u001b[0m\u001b[0;34m.\u001b[0m\u001b[0moptions\u001b[0m\u001b[0;34m)\u001b[0m\u001b[0;34m\u001b[0m\u001b[0;34m\u001b[0m\u001b[0m\n\u001b[0m\u001b[1;32m   1181\u001b[0m         \u001b[0;32melse\u001b[0m\u001b[0;34m:\u001b[0m\u001b[0;34m\u001b[0m\u001b[0;34m\u001b[0m\u001b[0m\n\u001b[1;32m   1182\u001b[0m             \u001b[0;32mif\u001b[0m \u001b[0mengine\u001b[0m \u001b[0;34m==\u001b[0m \u001b[0;34m\"python\"\u001b[0m\u001b[0;34m:\u001b[0m\u001b[0;34m\u001b[0m\u001b[0;34m\u001b[0m\u001b[0m\n",
            "\u001b[0;32m/usr/local/lib/python3.7/dist-packages/pandas/io/parsers.py\u001b[0m in \u001b[0;36m__init__\u001b[0;34m(self, src, **kwds)\u001b[0m\n\u001b[1;32m   2008\u001b[0m         \u001b[0mkwds\u001b[0m\u001b[0;34m[\u001b[0m\u001b[0;34m\"usecols\"\u001b[0m\u001b[0;34m]\u001b[0m \u001b[0;34m=\u001b[0m \u001b[0mself\u001b[0m\u001b[0;34m.\u001b[0m\u001b[0musecols\u001b[0m\u001b[0;34m\u001b[0m\u001b[0;34m\u001b[0m\u001b[0m\n\u001b[1;32m   2009\u001b[0m \u001b[0;34m\u001b[0m\u001b[0m\n\u001b[0;32m-> 2010\u001b[0;31m         \u001b[0mself\u001b[0m\u001b[0;34m.\u001b[0m\u001b[0m_reader\u001b[0m \u001b[0;34m=\u001b[0m \u001b[0mparsers\u001b[0m\u001b[0;34m.\u001b[0m\u001b[0mTextReader\u001b[0m\u001b[0;34m(\u001b[0m\u001b[0msrc\u001b[0m\u001b[0;34m,\u001b[0m \u001b[0;34m**\u001b[0m\u001b[0mkwds\u001b[0m\u001b[0;34m)\u001b[0m\u001b[0;34m\u001b[0m\u001b[0;34m\u001b[0m\u001b[0m\n\u001b[0m\u001b[1;32m   2011\u001b[0m         \u001b[0mself\u001b[0m\u001b[0;34m.\u001b[0m\u001b[0munnamed_cols\u001b[0m \u001b[0;34m=\u001b[0m \u001b[0mself\u001b[0m\u001b[0;34m.\u001b[0m\u001b[0m_reader\u001b[0m\u001b[0;34m.\u001b[0m\u001b[0munnamed_cols\u001b[0m\u001b[0;34m\u001b[0m\u001b[0;34m\u001b[0m\u001b[0m\n\u001b[1;32m   2012\u001b[0m \u001b[0;34m\u001b[0m\u001b[0m\n",
            "\u001b[0;32mpandas/_libs/parsers.pyx\u001b[0m in \u001b[0;36mpandas._libs.parsers.TextReader.__cinit__\u001b[0;34m()\u001b[0m\n",
            "\u001b[0;32mpandas/_libs/parsers.pyx\u001b[0m in \u001b[0;36mpandas._libs.parsers.TextReader._setup_parser_source\u001b[0;34m()\u001b[0m\n",
            "\u001b[0;31mFileNotFoundError\u001b[0m: [Errno 2] No such file or directory: '/content/drive/My Drive/serviceTrainData.csv'"
          ]
        }
      ]
    },
    {
      "cell_type": "code",
      "metadata": {
        "id": "BzYTAfqHLLhr"
      },
      "source": [
        "Data.isnull().sum()\n",
        "missing=Data[Data.isnull().any(axis=1)]\n"
      ],
      "execution_count": null,
      "outputs": []
    },
    {
      "cell_type": "code",
      "metadata": {
        "id": "G16hBbRyL4MA"
      },
      "source": [
        "missing"
      ],
      "execution_count": null,
      "outputs": []
    },
    {
      "cell_type": "code",
      "metadata": {
        "id": "FBuz0EqJMf4j",
        "colab": {
          "base_uri": "https://localhost:8080/"
        },
        "outputId": "8b77839a-2c02-4b6e-81d7-01da14676d94"
      },
      "source": [
        "data2=Data.dropna(axis=0)\n",
        "data2.describe()\n",
        "data2.isnull().sum()"
      ],
      "execution_count": null,
      "outputs": [
        {
          "output_type": "execute_result",
          "data": {
            "text/plain": [
              "OilQual        0\n",
              "EnginePerf     0\n",
              "NormMileage    0\n",
              "TyreWear       0\n",
              "HVACwear       0\n",
              "Service        0\n",
              "dtype: int64"
            ]
          },
          "metadata": {
            "tags": []
          },
          "execution_count": 29
        }
      ]
    },
    {
      "cell_type": "code",
      "metadata": {
        "id": "5Zg-l9SwNIca",
        "colab": {
          "base_uri": "https://localhost:8080/"
        },
        "outputId": "218436fd-56cb-4ba9-d4cf-2ea145c4dc30"
      },
      "source": [
        "corr=data2.corr()\n",
        "print(corr)\n"
      ],
      "execution_count": null,
      "outputs": [
        {
          "output_type": "stream",
          "text": [
            "              OilQual  EnginePerf  NormMileage  TyreWear  HVACwear\n",
            "OilQual      1.000000    0.998271     0.997599  0.999045  0.997717\n",
            "EnginePerf   0.998271    1.000000     0.998385  0.998228  0.998077\n",
            "NormMileage  0.997599    0.998385     1.000000  0.997837  0.998400\n",
            "TyreWear     0.999045    0.998228     0.997837  1.000000  0.997176\n",
            "HVACwear     0.997717    0.998077     0.998400  0.997176  1.000000\n"
          ],
          "name": "stdout"
        }
      ]
    },
    {
      "cell_type": "code",
      "metadata": {
        "id": "FpXIV3XNQM-s",
        "colab": {
          "base_uri": "https://localhost:8080/"
        },
        "outputId": "2cd11131-03b3-49ff-d19b-69d54c193988"
      },
      "source": [
        "age_pricesat=pd.crosstab(index= data2['OilQual'], columns=data2['EnginePerf'],margins=True, normalize= \"index\")\n",
        "print(age_pricesat)"
      ],
      "execution_count": null,
      "outputs": [
        {
          "output_type": "stream",
          "text": [
            "EnginePerf          1.891003    2.841003    ...  105.474032  105.744032\n",
            "OilQual                                     ...                        \n",
            "0.987185029           0.000000    0.000000  ...    0.000000    0.000000\n",
            "2.027185029           0.000000    0.000000  ...    0.000000    0.000000\n",
            "2.987185029           0.000000    0.000000  ...    0.000000    0.000000\n",
            "3.1271850289999996    1.000000    0.000000  ...    0.000000    0.000000\n",
            "3.467185029           0.000000    0.000000  ...    0.000000    0.000000\n",
            "...                        ...         ...  ...         ...         ...\n",
            "105.7888212           0.000000    0.000000  ...    0.000000    0.000000\n",
            "106.10882120000001    0.000000    0.000000  ...    0.000000    0.000000\n",
            "106.38882120000001    0.000000    0.000000  ...    0.000000    0.000000\n",
            "106.4288212           0.000000    0.000000  ...    0.000000    0.000000\n",
            "All                   0.009524    0.003175  ...    0.003175    0.012698\n",
            "\n",
            "[145 rows x 150 columns]\n"
          ],
          "name": "stdout"
        }
      ]
    },
    {
      "cell_type": "code",
      "metadata": {
        "id": "l1g5XDHRUhrp",
        "colab": {
          "base_uri": "https://localhost:8080/",
          "height": 333
        },
        "outputId": "bb81f87c-bdef-4aaa-fb88-feec716281fd"
      },
      "source": [
        "plot1=sns.countplot(data2['TyreWear'])\n",
        "#plot2=sns.distplot(data2['TyreWear'],bins=10, kde='False')"
      ],
      "execution_count": null,
      "outputs": [
        {
          "output_type": "stream",
          "text": [
            "/usr/local/lib/python3.7/dist-packages/seaborn/_decorators.py:43: FutureWarning: Pass the following variable as a keyword arg: x. From version 0.12, the only valid positional argument will be `data`, and passing other arguments without an explicit keyword will result in an error or misinterpretation.\n",
            "  FutureWarning\n"
          ],
          "name": "stderr"
        },
        {
          "output_type": "display_data",
          "data": {
            "image/png": "[encoded data removed]",
            "text/plain": [
              "<Figure size 432x288 with 1 Axes>"
            ]
          },
          "metadata": {
            "tags": [],
            "needs_background": "light"
          }
        }
      ]
    },
    {
      "cell_type": "code",
      "metadata": {
        "id": "4ssVyB2mCJAp",
        "colab": {
          "base_uri": "https://localhost:8080/"
        },
        "outputId": "43cf257e-1afd-404b-e275-1c46ecca7e58"
      },
      "source": [
        "data2['Service']=data2['Service'].map({'Yes':1,'No':0})\n",
        "print(data2['Service'])\n",
        "#data2.describe(include='O')"
      ],
      "execution_count": null,
      "outputs": [
        {
          "output_type": "stream",
          "text": [
            "0      0\n",
            "1      1\n",
            "2      1\n",
            "3      0\n",
            "4      0\n",
            "      ..\n",
            "310    0\n",
            "311    0\n",
            "312    1\n",
            "313    1\n",
            "314    1\n",
            "Name: Service, Length: 315, dtype: int64\n"
          ],
          "name": "stdout"
        }
      ]
    },
    {
      "cell_type": "code",
      "metadata": {
        "id": "pIYpcXZ0Dz98",
        "colab": {
          "base_uri": "https://localhost:8080/",
          "height": 419
        },
        "outputId": "0a995e82-a326-4f64-d6d2-bba5ab5041ff"
      },
      "source": [
        "newdata=pd.get_dummies(data2,drop_first=True)\n",
        "newdata\n"
      ],
      "execution_count": null,
      "outputs": [
        {
          "output_type": "execute_result",
          "data": {
            "text/html": [
              "<div>\n",
              "<style scoped>\n",
              "    .dataframe tbody tr th:only-of-type {\n",
              "        vertical-align: middle;\n",
              "    }\n",
              "\n",
              "    .dataframe tbody tr th {\n",
              "        vertical-align: top;\n",
              "    }\n",
              "\n",
              "    .dataframe thead th {\n",
              "        text-align: right;\n",
              "    }\n",
              "</style>\n",
              "<table border=\"1\" class=\"dataframe\">\n",
              "  <thead>\n",
              "    <tr style=\"text-align: right;\">\n",
              "      <th></th>\n",
              "      <th>OilQual</th>\n",
              "      <th>EnginePerf</th>\n",
              "      <th>NormMileage</th>\n",
              "      <th>TyreWear</th>\n",
              "      <th>HVACwear</th>\n",
              "      <th>Service_Yes</th>\n",
              "    </tr>\n",
              "  </thead>\n",
              "  <tbody>\n",
              "    <tr>\n",
              "      <th>0</th>\n",
              "      <td>103.388821</td>\n",
              "      <td>103.504032</td>\n",
              "      <td>103.051485</td>\n",
              "      <td>106.172658</td>\n",
              "      <td>105.686843</td>\n",
              "      <td>0</td>\n",
              "    </tr>\n",
              "    <tr>\n",
              "      <th>1</th>\n",
              "      <td>26.765516</td>\n",
              "      <td>26.188265</td>\n",
              "      <td>31.259536</td>\n",
              "      <td>29.186162</td>\n",
              "      <td>31.311275</td>\n",
              "      <td>1</td>\n",
              "    </tr>\n",
              "    <tr>\n",
              "      <th>2</th>\n",
              "      <td>62.413282</td>\n",
              "      <td>63.681061</td>\n",
              "      <td>59.720883</td>\n",
              "      <td>64.704031</td>\n",
              "      <td>58.620518</td>\n",
              "      <td>1</td>\n",
              "    </tr>\n",
              "    <tr>\n",
              "      <th>3</th>\n",
              "      <td>45.533338</td>\n",
              "      <td>49.906615</td>\n",
              "      <td>48.777581</td>\n",
              "      <td>48.113851</td>\n",
              "      <td>47.952072</td>\n",
              "      <td>0</td>\n",
              "    </tr>\n",
              "    <tr>\n",
              "      <th>4</th>\n",
              "      <td>104.388821</td>\n",
              "      <td>103.284032</td>\n",
              "      <td>103.051485</td>\n",
              "      <td>105.822658</td>\n",
              "      <td>106.536843</td>\n",
              "      <td>0</td>\n",
              "    </tr>\n",
              "    <tr>\n",
              "      <th>...</th>\n",
              "      <td>...</td>\n",
              "      <td>...</td>\n",
              "      <td>...</td>\n",
              "      <td>...</td>\n",
              "      <td>...</td>\n",
              "      <td>...</td>\n",
              "    </tr>\n",
              "    <tr>\n",
              "      <th>310</th>\n",
              "      <td>105.168821</td>\n",
              "      <td>103.744032</td>\n",
              "      <td>103.051485</td>\n",
              "      <td>107.172658</td>\n",
              "      <td>104.856843</td>\n",
              "      <td>0</td>\n",
              "    </tr>\n",
              "    <tr>\n",
              "      <th>311</th>\n",
              "      <td>104.388821</td>\n",
              "      <td>105.744032</td>\n",
              "      <td>103.051485</td>\n",
              "      <td>105.782658</td>\n",
              "      <td>104.196843</td>\n",
              "      <td>0</td>\n",
              "    </tr>\n",
              "    <tr>\n",
              "      <th>312</th>\n",
              "      <td>63.823282</td>\n",
              "      <td>62.741061</td>\n",
              "      <td>59.720883</td>\n",
              "      <td>61.654031</td>\n",
              "      <td>62.620518</td>\n",
              "      <td>1</td>\n",
              "    </tr>\n",
              "    <tr>\n",
              "      <th>313</th>\n",
              "      <td>26.535516</td>\n",
              "      <td>27.418265</td>\n",
              "      <td>31.259536</td>\n",
              "      <td>27.486162</td>\n",
              "      <td>33.311275</td>\n",
              "      <td>1</td>\n",
              "    </tr>\n",
              "    <tr>\n",
              "      <th>314</th>\n",
              "      <td>26.215516</td>\n",
              "      <td>26.338265</td>\n",
              "      <td>31.259536</td>\n",
              "      <td>27.036162</td>\n",
              "      <td>31.311275</td>\n",
              "      <td>1</td>\n",
              "    </tr>\n",
              "  </tbody>\n",
              "</table>\n",
              "<p>315 rows × 6 columns</p>\n",
              "</div>"
            ],
            "text/plain": [
              "        OilQual  EnginePerf  NormMileage    TyreWear    HVACwear  Service_Yes\n",
              "0    103.388821  103.504032   103.051485  106.172658  105.686843            0\n",
              "1     26.765516   26.188265    31.259536   29.186162   31.311275            1\n",
              "2     62.413282   63.681061    59.720883   64.704031   58.620518            1\n",
              "3     45.533338   49.906615    48.777581   48.113851   47.952072            0\n",
              "4    104.388821  103.284032   103.051485  105.822658  106.536843            0\n",
              "..          ...         ...          ...         ...         ...          ...\n",
              "310  105.168821  103.744032   103.051485  107.172658  104.856843            0\n",
              "311  104.388821  105.744032   103.051485  105.782658  104.196843            0\n",
              "312   63.823282   62.741061    59.720883   61.654031   62.620518            1\n",
              "313   26.535516   27.418265    31.259536   27.486162   33.311275            1\n",
              "314   26.215516   26.338265    31.259536   27.036162   31.311275            1\n",
              "\n",
              "[315 rows x 6 columns]"
            ]
          },
          "metadata": {
            "tags": []
          },
          "execution_count": 35
        }
      ]
    },
    {
      "cell_type": "markdown",
      "metadata": {
        "id": "f80MLDopNIsZ"
      },
      "source": [
        ""
      ]
    },
    {
      "cell_type": "code",
      "metadata": {
        "id": "R71s80uWE8jy",
        "colab": {
          "base_uri": "https://localhost:8080/"
        },
        "outputId": "de43987a-fb65-4551-d704-fd028bc391e8"
      },
      "source": [
        "column_list=list(newdata.columns)\n",
        "feature=list(set(column_list)-set(['Service']))\n",
        "feature"
      ],
      "execution_count": null,
      "outputs": [
        {
          "output_type": "execute_result",
          "data": {
            "text/plain": [
              "['EnginePerf', 'OilQual', 'NormMileage', 'Service_Yes', 'TyreWear', 'HVACwear']"
            ]
          },
          "metadata": {
            "tags": []
          },
          "execution_count": 33
        }
      ]
    },
    {
      "cell_type": "code",
      "metadata": {
        "id": "SZ-T9yp4GA68",
        "colab": {
          "base_uri": "https://localhost:8080/"
        },
        "outputId": "677cd5c8-8244-4b33-d1c0-201d54a98f3a"
      },
      "source": [
        "y=newdata['Service_Yes'].values\n",
        "x=newdata[feature].values\n",
        "trainx,testx,trainy,testy=train_test_split(x,y,test_size=0.2,random_state=0)\n",
        "Logistic=LogisticRegression()\n",
        "Logistic.fit(trainx,trainy)\n",
        "Logistic.coef_\n",
        "Logistic.intercept_\n",
        "predict=Logistic.predict(testx)\n",
        "print(predict)\n"
      ],
      "execution_count": null,
      "outputs": [
        {
          "output_type": "stream",
          "text": [
            "[0 1 1 0 1 0 0 0 0 0 0 0 0 1 1 1 0 1 0 0 0 0 0 0 0 0 0 0 0 1 1 0 0 1 0 1 0\n",
            " 0 0 0 1 0 0 1 0 0 0 0 0 0 1 0 0 1 0 0 0 0 0 1 0 0 0]\n"
          ],
          "name": "stdout"
        },
        {
          "output_type": "stream",
          "text": [
            "/usr/local/lib/python3.7/dist-packages/sklearn/linear_model/_logistic.py:940: ConvergenceWarning: lbfgs failed to converge (status=1):\n",
            "STOP: TOTAL NO. of ITERATIONS REACHED LIMIT.\n",
            "\n",
            "Increase the number of iterations (max_iter) or scale the data as shown in:\n",
            "    https://scikit-learn.org/stable/modules/preprocessing.html\n",
            "Please also refer to the documentation for alternative solver options:\n",
            "    https://scikit-learn.org/stable/modules/linear_model.html#logistic-regression\n",
            "  extra_warning_msg=_LOGISTIC_SOLVER_CONVERGENCE_MSG)\n"
          ],
          "name": "stderr"
        }
      ]
    },
    {
      "cell_type": "code",
      "metadata": {
        "id": "YCfzdV8dMWcL",
        "colab": {
          "base_uri": "https://localhost:8080/"
        },
        "outputId": "69b649b1-9623-445f-de32-f83064198036"
      },
      "source": [
        "confusionm=confusion_matrix(testy,predict)\n",
        "print(confusionm)"
      ],
      "execution_count": null,
      "outputs": [
        {
          "output_type": "stream",
          "text": [
            "[[47  0]\n",
            " [ 0 16]]\n"
          ],
          "name": "stdout"
        }
      ]
    },
    {
      "cell_type": "code",
      "metadata": {
        "id": "Y9_U3nG6NHfp",
        "colab": {
          "base_uri": "https://localhost:8080/"
        },
        "outputId": "c8d35af0-4ed9-465e-8397-3d2578806aeb"
      },
      "source": [
        "accuracyscore=accuracy_score(testy,predict)\n",
        "print(accuracyscore)\n",
        "print((testy!=predict).sum())"
      ],
      "execution_count": null,
      "outputs": [
        {
          "output_type": "stream",
          "text": [
            "1.0\n",
            "0\n"
          ],
          "name": "stdout"
        }
      ]
    },
    {
      "cell_type": "markdown",
      "metadata": {
        "id": "hYmNLOzpPoei"
      },
      "source": [
        "KNN Algorithm with same data"
      ]
    },
    {
      "cell_type": "code",
      "metadata": {
        "id": "4w1P1D9vPtJ4",
        "colab": {
          "base_uri": "https://localhost:8080/"
        },
        "outputId": "26063985-3e31-4029-cda7-f7a7f0b6248c"
      },
      "source": [
        "from sklearn.neighbors import KNeighborsClassifier\n",
        "import matplotlib.pyplot as plt\n",
        "knn_classifier=KNeighborsClassifier(n_neighbors=3) \n",
        "knn_classifier.fit(trainx, trainy)\n",
        "kpredict=knn_classifier.predict(testx)\n",
        "kpredict\n",
        "confusionm=confusion_matrix(testy,kpredict)\n",
        "print(confusionm)"
      ],
      "execution_count": null,
      "outputs": [
        {
          "output_type": "stream",
          "text": [
            "[[47  0]\n",
            " [ 0 16]]\n"
          ],
          "name": "stdout"
        }
      ]
    },
    {
      "cell_type": "code",
      "metadata": {
        "colab": {
          "base_uri": "https://localhost:8080/",
          "height": 173
        },
        "id": "7sWgobqvrcQT",
        "outputId": "9b504921-7a45-45d2-9ed5-44683d6343a0"
      },
      "source": [
        "s = pd.Series(list('abca'))\n",
        "pd.get_dummies(s)"
      ],
      "execution_count": null,
      "outputs": [
        {
          "output_type": "execute_result",
          "data": {
            "text/html": [
              "<div>\n",
              "<style scoped>\n",
              "    .dataframe tbody tr th:only-of-type {\n",
              "        vertical-align: middle;\n",
              "    }\n",
              "\n",
              "    .dataframe tbody tr th {\n",
              "        vertical-align: top;\n",
              "    }\n",
              "\n",
              "    .dataframe thead th {\n",
              "        text-align: right;\n",
              "    }\n",
              "</style>\n",
              "<table border=\"1\" class=\"dataframe\">\n",
              "  <thead>\n",
              "    <tr style=\"text-align: right;\">\n",
              "      <th></th>\n",
              "      <th>a</th>\n",
              "      <th>b</th>\n",
              "      <th>c</th>\n",
              "    </tr>\n",
              "  </thead>\n",
              "  <tbody>\n",
              "    <tr>\n",
              "      <th>0</th>\n",
              "      <td>1</td>\n",
              "      <td>0</td>\n",
              "      <td>0</td>\n",
              "    </tr>\n",
              "    <tr>\n",
              "      <th>1</th>\n",
              "      <td>0</td>\n",
              "      <td>1</td>\n",
              "      <td>0</td>\n",
              "    </tr>\n",
              "    <tr>\n",
              "      <th>2</th>\n",
              "      <td>0</td>\n",
              "      <td>0</td>\n",
              "      <td>1</td>\n",
              "    </tr>\n",
              "    <tr>\n",
              "      <th>3</th>\n",
              "      <td>1</td>\n",
              "      <td>0</td>\n",
              "      <td>0</td>\n",
              "    </tr>\n",
              "  </tbody>\n",
              "</table>\n",
              "</div>"
            ],
            "text/plain": [
              "   a  b  c\n",
              "0  1  0  0\n",
              "1  0  1  0\n",
              "2  0  0  1\n",
              "3  1  0  0"
            ]
          },
          "metadata": {
            "tags": []
          },
          "execution_count": 23
        }
      ]
    }
  ]
}